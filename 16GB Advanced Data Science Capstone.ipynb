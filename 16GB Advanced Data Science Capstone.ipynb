{
    "cells": [
        {
            "cell_type": "markdown",
            "metadata": {},
            "source": "# Overview\n- This notebook is the Watson Studio notebook for the Advanced Data Science Capstone project of Coursera.\n- The topic of this project is the \"IEEE-CIS Fraud Detection\" challenge from Kaggle, more information about the dataset and the competition can be found at https://www.kaggle.com/c/ieee-fraud-detection/\n- The Machine Learning model in this Notebook is developped using the tensorflow/keras integrated in the Watson Studio Notebook. In addition, other libraries are used for the data analysis, graph display, data preprocessing:\n    + numpy\n    + pandas\n    + scikit-learn\n    + matplotlib\n    + seaborn\n- This model is developped using only the data from the train_transaction.csv, meaning just have of the given data.\n- In order to evaluate the performance of the model, F1_score function is developped, "
        },
        {
            "cell_type": "markdown",
            "metadata": {},
            "source": "# Load the dataset from the Cloud Data Object"
        },
        {
            "cell_type": "code",
            "execution_count": null,
            "metadata": {},
            "outputs": [],
            "source": "# The code was removed by Watson Studio for sharing."
        },
        {
            "cell_type": "markdown",
            "metadata": {},
            "source": "# Import the libraries and cleansing (using OneHotEncoding) and Normalize the data"
        },
        {
            "cell_type": "code",
            "execution_count": 2,
            "metadata": {},
            "outputs": [],
            "source": "import matplotlib.pyplot as plt\nimport pandas as pd\nimport seaborn as sns\nimport numpy as np\nimport copy\nimport os"
        },
        {
            "cell_type": "code",
            "execution_count": 3,
            "metadata": {},
            "outputs": [
                {
                    "data": {
                        "text/plain": "Index(['TransactionID', 'isFraud', 'TransactionDT', 'TransactionAmt',\n       'ProductCD', 'card1', 'card2', 'card3', 'card4', 'card5',\n       ...\n       'V330', 'V331', 'V332', 'V333', 'V334', 'V335', 'V336', 'V337', 'V338',\n       'V339'],\n      dtype='object', length=394)"
                    },
                    "execution_count": 3,
                    "metadata": {},
                    "output_type": "execute_result"
                }
            ],
            "source": "dataset_transaction.columns"
        },
        {
            "cell_type": "code",
            "execution_count": 4,
            "metadata": {},
            "outputs": [],
            "source": "float_columns = dataset_transaction.columns[np.where(dataset_transaction.dtypes == np.dtype('float64'))].to_list()\nint_columns = dataset_transaction.columns[np.where(dataset_transaction.dtypes == np.dtype('int64'))].to_list()\nobj_columns = dataset_transaction.columns[np.where(dataset_transaction.dtypes == np.dtype('O'))].to_list()\n\nskip_int_columns = ['TransactionID', 'isFraud']\nfor column in skip_int_columns:\n  int_columns.remove(column)\n\nskip_obj_colums = ['']"
        },
        {
            "cell_type": "code",
            "execution_count": 5,
            "metadata": {},
            "outputs": [],
            "source": "def normalization_data(X, indices):\n  X_out = copy.copy(X)\n  X_temp = X[indices]\n  X_out.iloc[indices] = (X_temp-np.mean(X_temp))/(np.max(X_temp)-np.min(X_temp))\n  X_out.iloc[np.where(np.isnan(X_out))[0]] = 0\n  return np.min(X_temp), np.max(X_temp), np.mean(X_temp), X_out.astype('float16')"
        },
        {
            "cell_type": "code",
            "execution_count": 6,
            "metadata": {},
            "outputs": [],
            "source": "# Task 1: Detect the columns with NaN and code it with an extra features\n# Task 2: Apply normalizationn\n# Task 3: Remove irrelevant columns\n\ncache = dict()\n#dataset_transaction = copy.copy(data_backup)\n\n#dataset_transaction.pop()\n\nfor column in float_columns:\n  # Set to float 16\n  dataset_transaction[column].astype('float16')\n\n  # Code the NaN feature\n  if np.any(np.isnan(dataset_transaction[column].values)):\n    dataset_transaction[column + \"_NaN_Code\"] = np.isnan(dataset_transaction[column].values).astype('int8')\n  \n  # Normalization\n  X = dataset_transaction[column]\n  indices = np.where(np.isnan(dataset_transaction[column]) == False)[0]\n  cache[column+'_min'], cache[column+'_max'], cache[column+'_mean'], dataset_transaction[column] = normalization_data(X, indices)"
        },
        {
            "cell_type": "code",
            "execution_count": 7,
            "metadata": {},
            "outputs": [
                {
                    "data": {
                        "text/html": "<div>\n<style scoped>\n    .dataframe tbody tr th:only-of-type {\n        vertical-align: middle;\n    }\n\n    .dataframe tbody tr th {\n        vertical-align: top;\n    }\n\n    .dataframe thead th {\n        text-align: right;\n    }\n</style>\n<table border=\"1\" class=\"dataframe\">\n  <thead>\n    <tr style=\"text-align: right;\">\n      <th></th>\n      <th>TransactionID</th>\n      <th>isFraud</th>\n      <th>TransactionDT</th>\n      <th>TransactionAmt</th>\n      <th>ProductCD</th>\n      <th>card1</th>\n      <th>card2</th>\n      <th>card3</th>\n      <th>card4</th>\n      <th>card5</th>\n      <th>...</th>\n      <th>V330_NaN_Code</th>\n      <th>V331_NaN_Code</th>\n      <th>V332_NaN_Code</th>\n      <th>V333_NaN_Code</th>\n      <th>V334_NaN_Code</th>\n      <th>V335_NaN_Code</th>\n      <th>V336_NaN_Code</th>\n      <th>V337_NaN_Code</th>\n      <th>V338_NaN_Code</th>\n      <th>V339_NaN_Code</th>\n    </tr>\n  </thead>\n  <tbody>\n    <tr>\n      <th>0</th>\n      <td>2987000</td>\n      <td>0</td>\n      <td>86400</td>\n      <td>-0.002083</td>\n      <td>W</td>\n      <td>13926</td>\n      <td>0.000000</td>\n      <td>-0.024384</td>\n      <td>discover</td>\n      <td>-0.418213</td>\n      <td>...</td>\n      <td>1</td>\n      <td>1</td>\n      <td>1</td>\n      <td>1</td>\n      <td>1</td>\n      <td>1</td>\n      <td>1</td>\n      <td>1</td>\n      <td>1</td>\n      <td>1</td>\n    </tr>\n    <tr>\n      <th>1</th>\n      <td>2987001</td>\n      <td>0</td>\n      <td>86401</td>\n      <td>-0.003321</td>\n      <td>W</td>\n      <td>2755</td>\n      <td>0.082886</td>\n      <td>-0.024384</td>\n      <td>mastercard</td>\n      <td>-0.709961</td>\n      <td>...</td>\n      <td>1</td>\n      <td>1</td>\n      <td>1</td>\n      <td>1</td>\n      <td>1</td>\n      <td>1</td>\n      <td>1</td>\n      <td>1</td>\n      <td>1</td>\n      <td>1</td>\n    </tr>\n    <tr>\n      <th>2</th>\n      <td>2987002</td>\n      <td>0</td>\n      <td>86469</td>\n      <td>-0.002380</td>\n      <td>W</td>\n      <td>4663</td>\n      <td>0.254883</td>\n      <td>-0.024384</td>\n      <td>visa</td>\n      <td>-0.242920</td>\n      <td>...</td>\n      <td>1</td>\n      <td>1</td>\n      <td>1</td>\n      <td>1</td>\n      <td>1</td>\n      <td>1</td>\n      <td>1</td>\n      <td>1</td>\n      <td>1</td>\n      <td>1</td>\n    </tr>\n    <tr>\n      <th>3</th>\n      <td>2987003</td>\n      <td>0</td>\n      <td>86499</td>\n      <td>-0.002663</td>\n      <td>W</td>\n      <td>18132</td>\n      <td>0.408936</td>\n      <td>-0.024384</td>\n      <td>mastercard</td>\n      <td>-0.600586</td>\n      <td>...</td>\n      <td>1</td>\n      <td>1</td>\n      <td>1</td>\n      <td>1</td>\n      <td>1</td>\n      <td>1</td>\n      <td>1</td>\n      <td>1</td>\n      <td>1</td>\n      <td>1</td>\n    </tr>\n    <tr>\n      <th>4</th>\n      <td>2987004</td>\n      <td>0</td>\n      <td>86506</td>\n      <td>-0.002663</td>\n      <td>H</td>\n      <td>4497</td>\n      <td>0.302979</td>\n      <td>-0.024384</td>\n      <td>mastercard</td>\n      <td>-0.709961</td>\n      <td>...</td>\n      <td>0</td>\n      <td>0</td>\n      <td>0</td>\n      <td>0</td>\n      <td>0</td>\n      <td>0</td>\n      <td>0</td>\n      <td>0</td>\n      <td>0</td>\n      <td>0</td>\n    </tr>\n  </tbody>\n</table>\n<p>5 rows \u00d7 755 columns</p>\n</div>",
                        "text/plain": "   TransactionID  isFraud  TransactionDT  TransactionAmt ProductCD  card1  \\\n0        2987000        0          86400       -0.002083         W  13926   \n1        2987001        0          86401       -0.003321         W   2755   \n2        2987002        0          86469       -0.002380         W   4663   \n3        2987003        0          86499       -0.002663         W  18132   \n4        2987004        0          86506       -0.002663         H   4497   \n\n      card2     card3       card4     card5  ... V330_NaN_Code  V331_NaN_Code  \\\n0  0.000000 -0.024384    discover -0.418213  ...             1              1   \n1  0.082886 -0.024384  mastercard -0.709961  ...             1              1   \n2  0.254883 -0.024384        visa -0.242920  ...             1              1   \n3  0.408936 -0.024384  mastercard -0.600586  ...             1              1   \n4  0.302979 -0.024384  mastercard -0.709961  ...             0              0   \n\n   V332_NaN_Code  V333_NaN_Code  V334_NaN_Code V335_NaN_Code V336_NaN_Code  \\\n0              1              1              1             1             1   \n1              1              1              1             1             1   \n2              1              1              1             1             1   \n3              1              1              1             1             1   \n4              0              0              0             0             0   \n\n   V337_NaN_Code  V338_NaN_Code  V339_NaN_Code  \n0              1              1              1  \n1              1              1              1  \n2              1              1              1  \n3              1              1              1  \n4              0              0              0  \n\n[5 rows x 755 columns]"
                    },
                    "execution_count": 7,
                    "metadata": {},
                    "output_type": "execute_result"
                }
            ],
            "source": "dataset_transaction.head(5)"
        },
        {
            "cell_type": "code",
            "execution_count": 8,
            "metadata": {},
            "outputs": [],
            "source": "for column in int_columns:\n  # Set to int 32\n  dataset_transaction[column].astype('int32')\n\n  # Code the NaN feature\n  if np.any(np.isnan(dataset_transaction[column].values)):\n    dataset_transaction[column + \"_NaN_Code\"] = np.isnan(dataset_transaction[column].values).astype('int8')\n  \n  # Normalization\n  X = dataset_transaction[column]\n  indices = np.where(np.isnan(dataset_transaction[column]) == False)[0]\n  cache[column+'_min'], cache[column+'_max'], cache[column+'_mean'], dataset_transaction[column] = normalization_data(X, indices)"
        },
        {
            "cell_type": "code",
            "execution_count": 9,
            "metadata": {},
            "outputs": [
                {
                    "data": {
                        "text/html": "<div>\n<style scoped>\n    .dataframe tbody tr th:only-of-type {\n        vertical-align: middle;\n    }\n\n    .dataframe tbody tr th {\n        vertical-align: top;\n    }\n\n    .dataframe thead th {\n        text-align: right;\n    }\n</style>\n<table border=\"1\" class=\"dataframe\">\n  <thead>\n    <tr style=\"text-align: right;\">\n      <th></th>\n      <th>TransactionID</th>\n      <th>isFraud</th>\n      <th>TransactionDT</th>\n      <th>TransactionAmt</th>\n      <th>ProductCD</th>\n      <th>card1</th>\n      <th>card2</th>\n      <th>card3</th>\n      <th>card4</th>\n      <th>card5</th>\n      <th>...</th>\n      <th>V330_NaN_Code</th>\n      <th>V331_NaN_Code</th>\n      <th>V332_NaN_Code</th>\n      <th>V333_NaN_Code</th>\n      <th>V334_NaN_Code</th>\n      <th>V335_NaN_Code</th>\n      <th>V336_NaN_Code</th>\n      <th>V337_NaN_Code</th>\n      <th>V338_NaN_Code</th>\n      <th>V339_NaN_Code</th>\n    </tr>\n  </thead>\n  <tbody>\n    <tr>\n      <th>0</th>\n      <td>2987000</td>\n      <td>0</td>\n      <td>-0.463379</td>\n      <td>-0.002083</td>\n      <td>W</td>\n      <td>0.231445</td>\n      <td>0.000000</td>\n      <td>-0.024384</td>\n      <td>discover</td>\n      <td>-0.418213</td>\n      <td>...</td>\n      <td>1</td>\n      <td>1</td>\n      <td>1</td>\n      <td>1</td>\n      <td>1</td>\n      <td>1</td>\n      <td>1</td>\n      <td>1</td>\n      <td>1</td>\n      <td>1</td>\n    </tr>\n    <tr>\n      <th>1</th>\n      <td>2987001</td>\n      <td>0</td>\n      <td>-0.463379</td>\n      <td>-0.003321</td>\n      <td>W</td>\n      <td>-0.410645</td>\n      <td>0.082886</td>\n      <td>-0.024384</td>\n      <td>mastercard</td>\n      <td>-0.709961</td>\n      <td>...</td>\n      <td>1</td>\n      <td>1</td>\n      <td>1</td>\n      <td>1</td>\n      <td>1</td>\n      <td>1</td>\n      <td>1</td>\n      <td>1</td>\n      <td>1</td>\n      <td>1</td>\n    </tr>\n    <tr>\n      <th>2</th>\n      <td>2987002</td>\n      <td>0</td>\n      <td>-0.463379</td>\n      <td>-0.002380</td>\n      <td>W</td>\n      <td>-0.301025</td>\n      <td>0.254883</td>\n      <td>-0.024384</td>\n      <td>visa</td>\n      <td>-0.242920</td>\n      <td>...</td>\n      <td>1</td>\n      <td>1</td>\n      <td>1</td>\n      <td>1</td>\n      <td>1</td>\n      <td>1</td>\n      <td>1</td>\n      <td>1</td>\n      <td>1</td>\n      <td>1</td>\n    </tr>\n    <tr>\n      <th>3</th>\n      <td>2987003</td>\n      <td>0</td>\n      <td>-0.463379</td>\n      <td>-0.002663</td>\n      <td>W</td>\n      <td>0.473389</td>\n      <td>0.408936</td>\n      <td>-0.024384</td>\n      <td>mastercard</td>\n      <td>-0.600586</td>\n      <td>...</td>\n      <td>1</td>\n      <td>1</td>\n      <td>1</td>\n      <td>1</td>\n      <td>1</td>\n      <td>1</td>\n      <td>1</td>\n      <td>1</td>\n      <td>1</td>\n      <td>1</td>\n    </tr>\n    <tr>\n      <th>4</th>\n      <td>2987004</td>\n      <td>0</td>\n      <td>-0.463379</td>\n      <td>-0.002663</td>\n      <td>H</td>\n      <td>-0.310547</td>\n      <td>0.302979</td>\n      <td>-0.024384</td>\n      <td>mastercard</td>\n      <td>-0.709961</td>\n      <td>...</td>\n      <td>0</td>\n      <td>0</td>\n      <td>0</td>\n      <td>0</td>\n      <td>0</td>\n      <td>0</td>\n      <td>0</td>\n      <td>0</td>\n      <td>0</td>\n      <td>0</td>\n    </tr>\n  </tbody>\n</table>\n<p>5 rows \u00d7 755 columns</p>\n</div>",
                        "text/plain": "   TransactionID  isFraud  TransactionDT  TransactionAmt ProductCD     card1  \\\n0        2987000        0      -0.463379       -0.002083         W  0.231445   \n1        2987001        0      -0.463379       -0.003321         W -0.410645   \n2        2987002        0      -0.463379       -0.002380         W -0.301025   \n3        2987003        0      -0.463379       -0.002663         W  0.473389   \n4        2987004        0      -0.463379       -0.002663         H -0.310547   \n\n      card2     card3       card4     card5  ... V330_NaN_Code  V331_NaN_Code  \\\n0  0.000000 -0.024384    discover -0.418213  ...             1              1   \n1  0.082886 -0.024384  mastercard -0.709961  ...             1              1   \n2  0.254883 -0.024384        visa -0.242920  ...             1              1   \n3  0.408936 -0.024384  mastercard -0.600586  ...             1              1   \n4  0.302979 -0.024384  mastercard -0.709961  ...             0              0   \n\n   V332_NaN_Code  V333_NaN_Code  V334_NaN_Code V335_NaN_Code V336_NaN_Code  \\\n0              1              1              1             1             1   \n1              1              1              1             1             1   \n2              1              1              1             1             1   \n3              1              1              1             1             1   \n4              0              0              0             0             0   \n\n   V337_NaN_Code  V338_NaN_Code  V339_NaN_Code  \n0              1              1              1  \n1              1              1              1  \n2              1              1              1  \n3              1              1              1  \n4              0              0              0  \n\n[5 rows x 755 columns]"
                    },
                    "execution_count": 9,
                    "metadata": {},
                    "output_type": "execute_result"
                }
            ],
            "source": "dataset_transaction.head(5)"
        },
        {
            "cell_type": "code",
            "execution_count": 10,
            "metadata": {},
            "outputs": [
                {
                    "data": {
                        "text/html": "<div>\n<style scoped>\n    .dataframe tbody tr th:only-of-type {\n        vertical-align: middle;\n    }\n\n    .dataframe tbody tr th {\n        vertical-align: top;\n    }\n\n    .dataframe thead th {\n        text-align: right;\n    }\n</style>\n<table border=\"1\" class=\"dataframe\">\n  <thead>\n    <tr style=\"text-align: right;\">\n      <th></th>\n      <th>TransactionID</th>\n      <th>isFraud</th>\n      <th>TransactionDT</th>\n      <th>TransactionAmt</th>\n      <th>card1</th>\n      <th>card2</th>\n      <th>card3</th>\n      <th>card5</th>\n      <th>addr1</th>\n      <th>addr2</th>\n      <th>...</th>\n      <th>M6_2</th>\n      <th>M7_0</th>\n      <th>M7_1</th>\n      <th>M7_2</th>\n      <th>M8_0</th>\n      <th>M8_1</th>\n      <th>M8_2</th>\n      <th>M9_0</th>\n      <th>M9_1</th>\n      <th>M9_2</th>\n    </tr>\n  </thead>\n  <tbody>\n    <tr>\n      <th>0</th>\n      <td>2987000</td>\n      <td>0</td>\n      <td>-0.463379</td>\n      <td>-0.002083</td>\n      <td>0.231445</td>\n      <td>0.000000</td>\n      <td>-0.024384</td>\n      <td>-0.418213</td>\n      <td>0.055145</td>\n      <td>0.002167</td>\n      <td>...</td>\n      <td>1</td>\n      <td>0</td>\n      <td>1</td>\n      <td>0</td>\n      <td>0</td>\n      <td>1</td>\n      <td>0</td>\n      <td>0</td>\n      <td>1</td>\n      <td>0</td>\n    </tr>\n    <tr>\n      <th>1</th>\n      <td>2987001</td>\n      <td>0</td>\n      <td>-0.463379</td>\n      <td>-0.003321</td>\n      <td>-0.410645</td>\n      <td>0.082886</td>\n      <td>-0.024384</td>\n      <td>-0.709961</td>\n      <td>0.077881</td>\n      <td>0.002167</td>\n      <td>...</td>\n      <td>1</td>\n      <td>0</td>\n      <td>1</td>\n      <td>0</td>\n      <td>0</td>\n      <td>1</td>\n      <td>0</td>\n      <td>0</td>\n      <td>1</td>\n      <td>0</td>\n    </tr>\n    <tr>\n      <th>2</th>\n      <td>2987002</td>\n      <td>0</td>\n      <td>-0.463379</td>\n      <td>-0.002380</td>\n      <td>-0.301025</td>\n      <td>0.254883</td>\n      <td>-0.024384</td>\n      <td>-0.242920</td>\n      <td>0.089233</td>\n      <td>0.002167</td>\n      <td>...</td>\n      <td>0</td>\n      <td>1</td>\n      <td>0</td>\n      <td>0</td>\n      <td>1</td>\n      <td>0</td>\n      <td>0</td>\n      <td>1</td>\n      <td>0</td>\n      <td>0</td>\n    </tr>\n    <tr>\n      <th>3</th>\n      <td>2987003</td>\n      <td>0</td>\n      <td>-0.463379</td>\n      <td>-0.002663</td>\n      <td>0.473389</td>\n      <td>0.408936</td>\n      <td>-0.024384</td>\n      <td>-0.600586</td>\n      <td>0.421143</td>\n      <td>0.002167</td>\n      <td>...</td>\n      <td>0</td>\n      <td>0</td>\n      <td>1</td>\n      <td>0</td>\n      <td>0</td>\n      <td>1</td>\n      <td>0</td>\n      <td>0</td>\n      <td>1</td>\n      <td>0</td>\n    </tr>\n    <tr>\n      <th>4</th>\n      <td>2987004</td>\n      <td>0</td>\n      <td>-0.463379</td>\n      <td>-0.002663</td>\n      <td>-0.310547</td>\n      <td>0.302979</td>\n      <td>-0.024384</td>\n      <td>-0.709961</td>\n      <td>0.293701</td>\n      <td>0.002167</td>\n      <td>...</td>\n      <td>0</td>\n      <td>0</td>\n      <td>1</td>\n      <td>0</td>\n      <td>0</td>\n      <td>1</td>\n      <td>0</td>\n      <td>0</td>\n      <td>1</td>\n      <td>0</td>\n    </tr>\n  </tbody>\n</table>\n<p>5 rows \u00d7 905 columns</p>\n</div>",
                        "text/plain": "   TransactionID  isFraud  TransactionDT  TransactionAmt     card1     card2  \\\n0        2987000        0      -0.463379       -0.002083  0.231445  0.000000   \n1        2987001        0      -0.463379       -0.003321 -0.410645  0.082886   \n2        2987002        0      -0.463379       -0.002380 -0.301025  0.254883   \n3        2987003        0      -0.463379       -0.002663  0.473389  0.408936   \n4        2987004        0      -0.463379       -0.002663 -0.310547  0.302979   \n\n      card3     card5     addr1     addr2  ...  M6_2  M7_0  M7_1  M7_2  M8_0  \\\n0 -0.024384 -0.418213  0.055145  0.002167  ...     1     0     1     0     0   \n1 -0.024384 -0.709961  0.077881  0.002167  ...     1     0     1     0     0   \n2 -0.024384 -0.242920  0.089233  0.002167  ...     0     1     0     0     1   \n3 -0.024384 -0.600586  0.421143  0.002167  ...     0     0     1     0     0   \n4 -0.024384 -0.709961  0.293701  0.002167  ...     0     0     1     0     0   \n\n   M8_1  M8_2  M9_0  M9_1  M9_2  \n0     1     0     0     1     0  \n1     1     0     0     1     0  \n2     0     0     1     0     0  \n3     1     0     0     1     0  \n4     1     0     0     1     0  \n\n[5 rows x 905 columns]"
                    },
                    "execution_count": 10,
                    "metadata": {},
                    "output_type": "execute_result"
                }
            ],
            "source": "from sklearn.preprocessing import OneHotEncoder\nfor column in obj_columns:\n  ohc = OneHotEncoder()\n  dataset_transaction.loc[np.where(dataset_transaction[column].isnull())[0], column] = 'Null'\n  encoded = ohc.fit_transform(dataset_transaction[column].values.reshape(-1,1)).toarray()    \n  pd_encoded = pd.DataFrame(encoded.astype('int8'), columns=[column+\"_\"+str(i) for i in range(len(np.unique(dataset_transaction[column].astype('str'))))])\n  dataset_transaction = pd.concat([dataset_transaction, pd_encoded], axis=1)\n\nfor column in obj_columns:\n  try:\n    dataset_transaction.pop(column)\n  except KeyError:\n    pass\ndataset_transaction.head(5)"
        },
        {
            "cell_type": "code",
            "execution_count": 11,
            "metadata": {},
            "outputs": [
                {
                    "name": "stdout",
                    "output_type": "stream",
                    "text": "False False\n"
                }
            ],
            "source": "# Double check again Null and Nan\nprint(np.any(np.isnan(dataset_transaction)), np.any(dataset_transaction.isnull()))"
        },
        {
            "cell_type": "markdown",
            "metadata": {},
            "source": "# Apply Seaborn to analyze the processed data and detect removable features"
        },
        {
            "cell_type": "code",
            "execution_count": 12,
            "metadata": {},
            "outputs": [],
            "source": "colums_to_analyze = ['isFraud', 'TransactionDT', 'TransactionAmt', 'P_emaildomain_0', 'P_emaildomain_1', 'P_emaildomain_2', 'P_emaildomain_3', 'P_emaildomain_4', 'addr1', 'addr2', 'dist1', 'dist2']\nanalyzing_data = dataset_transaction[colums_to_analyze]"
        },
        {
            "cell_type": "code",
            "execution_count": 13,
            "metadata": {},
            "outputs": [
                {
                    "data": {
                        "text/plain": "<matplotlib.axes._subplots.AxesSubplot at 0x7f6d53fecb70>"
                    },
                    "execution_count": 13,
                    "metadata": {},
                    "output_type": "execute_result"
                },
                {
                    "data": {
                        "image/png": "[encoded data removed]",
                        "text/plain": "<Figure size 792x648 with 2 Axes>"
                    },
                    "metadata": {
                        "needs_background": "light"
                    },
                    "output_type": "display_data"
                }
            ],
            "source": "corr = analyzing_data.corr()\nmask = np.triu(np.ones_like(corr, dtype=np.bool))\n# Set up the matplotlib figure\nf, ax = plt.subplots(figsize=(11, 9))\n\n# Generate a custom diverging colormap\ncmap = sns.diverging_palette(220, 10, as_cmap=True)\n\n# Draw the heatmap with the mask and correct aspect ratio\nsns.heatmap(corr, mask=mask, cmap=cmap, vmax=.3, center=0,\n            square=True, linewidths=.5, cbar_kws={\"shrink\": .5})"
        },
        {
            "cell_type": "markdown",
            "metadata": {},
            "source": "# Create the train/val dataset"
        },
        {
            "cell_type": "code",
            "execution_count": 14,
            "metadata": {},
            "outputs": [
                {
                    "data": {
                        "text/html": "<div>\n<style scoped>\n    .dataframe tbody tr th:only-of-type {\n        vertical-align: middle;\n    }\n\n    .dataframe tbody tr th {\n        vertical-align: top;\n    }\n\n    .dataframe thead th {\n        text-align: right;\n    }\n</style>\n<table border=\"1\" class=\"dataframe\">\n  <thead>\n    <tr style=\"text-align: right;\">\n      <th></th>\n      <th>isFraud</th>\n      <th>TransactionDT</th>\n      <th>TransactionAmt</th>\n      <th>card1</th>\n      <th>card2</th>\n      <th>card3</th>\n      <th>card5</th>\n      <th>addr1</th>\n      <th>addr2</th>\n      <th>dist1</th>\n      <th>...</th>\n      <th>M6_2</th>\n      <th>M7_0</th>\n      <th>M7_1</th>\n      <th>M7_2</th>\n      <th>M8_0</th>\n      <th>M8_1</th>\n      <th>M8_2</th>\n      <th>M9_0</th>\n      <th>M9_1</th>\n      <th>M9_2</th>\n    </tr>\n  </thead>\n  <tbody>\n    <tr>\n      <th>0</th>\n      <td>0</td>\n      <td>-0.463379</td>\n      <td>-0.002083</td>\n      <td>0.231445</td>\n      <td>0.000000</td>\n      <td>-0.024384</td>\n      <td>-0.418213</td>\n      <td>0.055145</td>\n      <td>0.002167</td>\n      <td>-0.009674</td>\n      <td>...</td>\n      <td>1</td>\n      <td>0</td>\n      <td>1</td>\n      <td>0</td>\n      <td>0</td>\n      <td>1</td>\n      <td>0</td>\n      <td>0</td>\n      <td>1</td>\n      <td>0</td>\n    </tr>\n    <tr>\n      <th>1</th>\n      <td>0</td>\n      <td>-0.463379</td>\n      <td>-0.003321</td>\n      <td>-0.410645</td>\n      <td>0.082886</td>\n      <td>-0.024384</td>\n      <td>-0.709961</td>\n      <td>0.077881</td>\n      <td>0.002167</td>\n      <td>0.000000</td>\n      <td>...</td>\n      <td>1</td>\n      <td>0</td>\n      <td>1</td>\n      <td>0</td>\n      <td>0</td>\n      <td>1</td>\n      <td>0</td>\n      <td>0</td>\n      <td>1</td>\n      <td>0</td>\n    </tr>\n    <tr>\n      <th>2</th>\n      <td>0</td>\n      <td>-0.463379</td>\n      <td>-0.002380</td>\n      <td>-0.301025</td>\n      <td>0.254883</td>\n      <td>-0.024384</td>\n      <td>-0.242920</td>\n      <td>0.089233</td>\n      <td>0.002167</td>\n      <td>0.016388</td>\n      <td>...</td>\n      <td>0</td>\n      <td>1</td>\n      <td>0</td>\n      <td>0</td>\n      <td>1</td>\n      <td>0</td>\n      <td>0</td>\n      <td>1</td>\n      <td>0</td>\n      <td>0</td>\n    </tr>\n    <tr>\n      <th>3</th>\n      <td>0</td>\n      <td>-0.463379</td>\n      <td>-0.002663</td>\n      <td>0.473389</td>\n      <td>0.408936</td>\n      <td>-0.024384</td>\n      <td>-0.600586</td>\n      <td>0.421143</td>\n      <td>0.002167</td>\n      <td>0.000000</td>\n      <td>...</td>\n      <td>0</td>\n      <td>0</td>\n      <td>1</td>\n      <td>0</td>\n      <td>0</td>\n      <td>1</td>\n      <td>0</td>\n      <td>0</td>\n      <td>1</td>\n      <td>0</td>\n    </tr>\n    <tr>\n      <th>4</th>\n      <td>0</td>\n      <td>-0.463379</td>\n      <td>-0.002663</td>\n      <td>-0.310547</td>\n      <td>0.302979</td>\n      <td>-0.024384</td>\n      <td>-0.709961</td>\n      <td>0.293701</td>\n      <td>0.002167</td>\n      <td>0.000000</td>\n      <td>...</td>\n      <td>0</td>\n      <td>0</td>\n      <td>1</td>\n      <td>0</td>\n      <td>0</td>\n      <td>1</td>\n      <td>0</td>\n      <td>0</td>\n      <td>1</td>\n      <td>0</td>\n    </tr>\n  </tbody>\n</table>\n<p>5 rows \u00d7 904 columns</p>\n</div>",
                        "text/plain": "   isFraud  TransactionDT  TransactionAmt     card1     card2     card3  \\\n0        0      -0.463379       -0.002083  0.231445  0.000000 -0.024384   \n1        0      -0.463379       -0.003321 -0.410645  0.082886 -0.024384   \n2        0      -0.463379       -0.002380 -0.301025  0.254883 -0.024384   \n3        0      -0.463379       -0.002663  0.473389  0.408936 -0.024384   \n4        0      -0.463379       -0.002663 -0.310547  0.302979 -0.024384   \n\n      card5     addr1     addr2     dist1  ...  M6_2  M7_0  M7_1  M7_2  M8_0  \\\n0 -0.418213  0.055145  0.002167 -0.009674  ...     1     0     1     0     0   \n1 -0.709961  0.077881  0.002167  0.000000  ...     1     0     1     0     0   \n2 -0.242920  0.089233  0.002167  0.016388  ...     0     1     0     0     1   \n3 -0.600586  0.421143  0.002167  0.000000  ...     0     0     1     0     0   \n4 -0.709961  0.293701  0.002167  0.000000  ...     0     0     1     0     0   \n\n   M8_1  M8_2  M9_0  M9_1  M9_2  \n0     1     0     0     1     0  \n1     1     0     0     1     0  \n2     0     0     1     0     0  \n3     1     0     0     1     0  \n4     1     0     0     1     0  \n\n[5 rows x 904 columns]"
                    },
                    "execution_count": 14,
                    "metadata": {},
                    "output_type": "execute_result"
                }
            ],
            "source": "# Remove the irrelevant columns\ndataset = copy.copy(dataset_transaction)\ndataset.pop('TransactionID')\ndataset.head(5)"
        },
        {
            "cell_type": "code",
            "execution_count": 15,
            "metadata": {},
            "outputs": [
                {
                    "name": "stdout",
                    "output_type": "stream",
                    "text": "(472432, 903) (472432,) (118108, 903)\n"
                }
            ],
            "source": "from sklearn.model_selection import train_test_split\n\nY = dataset['isFraud']\ndataset.pop('isFraud')\nX = dataset\n\nX_train, X_test, Y_train, Y_test = train_test_split(X, Y, test_size=0.2)\n\nprint(X_train.shape, Y_train.shape, X_test.shape)"
        },
        {
            "cell_type": "code",
            "execution_count": null,
            "metadata": {},
            "outputs": [],
            "source": "# Check the imbalance\nplt.subplot(211)\nplt.hist(Y_train, bins=[0,1,2])\n\nplt.subplot(212)\nplt.hist(Y_test, bins=[0,1,2])\n\nfraud_count = np.unique(Y_train, return_counts=True)\nprint(\"Percentage of Fraud: \" + str(round(fraud_count[1][1]/np.sum(fraud_count[1])*100,2)) + \"%\")"
        },
        {
            "cell_type": "markdown",
            "metadata": {},
            "source": "# Downsampling/Upsampling to minimize the imbalance "
        },
        {
            "cell_type": "code",
            "execution_count": 16,
            "metadata": {},
            "outputs": [
                {
                    "name": "stdout",
                    "output_type": "stream",
                    "text": "(45591, 1)\n(62116, 1)\n(62116, 903) (62116,)\n"
                }
            ],
            "source": "downsampling_factor = 10\nindices_1 = np.argwhere(np.array(Y_train)==1)\nindices_0_new = np.argwhere(np.array(Y_train)==0)\nindices = np.arange(0,len(indices_0_new),downsampling_factor)\nindices_0_new = indices_0_new[indices]\n\nprint(indices_0_new.shape)\nindices_0_new = np.concatenate((indices_0_new, indices_1), axis=0)\nprint(indices_0_new.shape)\n\n\nX_to_train = np.array(X_train)[indices_0_new]\nY_to_train = np.array(Y_train)[indices_0_new]\n\n\nX_to_train = np.reshape(X_to_train, (X_to_train.shape[0], X_to_train.shape[2]))\nY_to_train = np.squeeze(Y_to_train, axis=1)\nprint(X_to_train.shape, Y_to_train.shape)"
        },
        {
            "cell_type": "code",
            "execution_count": 18,
            "metadata": {},
            "outputs": [
                {
                    "name": "stdout",
                    "output_type": "stream",
                    "text": "Percentage of Fraud: 26.6%\n"
                },
                {
                    "data": {
                        "image/png": "[encoded data removed]",
                        "text/plain": "<Figure size 432x288 with 1 Axes>"
                    },
                    "metadata": {
                        "needs_background": "light"
                    },
                    "output_type": "display_data"
                }
            ],
            "source": "plt.hist(Y_to_train, bins=[0,1,2])\n\nfraud_count = np.unique(Y_to_train, return_counts=True)\nprint(\"Percentage of Fraud: \" + str(round(fraud_count[1][1]/np.sum(fraud_count[1])*100,2)) + \"%\")"
        },
        {
            "cell_type": "markdown",
            "metadata": {},
            "source": "# Create the model using NN"
        },
        {
            "cell_type": "code",
            "execution_count": 21,
            "metadata": {},
            "outputs": [
                {
                    "name": "stderr",
                    "output_type": "stream",
                    "text": "Using TensorFlow backend.\n"
                }
            ],
            "source": "import keras\nfrom keras.layers import Dense, Flatten, Dropout, BatchNormalization\nfrom keras import Sequential\nfrom keras.regularizers import l1_l2\nfrom keras.optimizers import Adam, SGD"
        },
        {
            "cell_type": "code",
            "execution_count": 25,
            "metadata": {},
            "outputs": [],
            "source": "def create_model(dense1=128, dense2=64, dropout_rate=0.4, l1_rate=0.001, l2_rate=0.001, init_std=0.01, lr_value=0.001):\n  out_model = Sequential()\n  out_model.add(Dense(dense1, activation=\"relu\", input_shape=(X_train.shape[1],),\n                      kernel_initializer=keras.initializers.RandomUniform(minval=-init_std, maxval=init_std),\n                      kernel_regularizer=l1_l2(l1=l1_rate, l2=l2_rate)))\n  out_model.add(Dense(dense1, activation=\"relu\",\n                      kernel_initializer=keras.initializers.RandomUniform(minval=-init_std, maxval=init_std),\n                      kernel_regularizer=l1_l2(l1=l1_rate, l2=l2_rate)))\n  out_model.add(Dropout(dropout_rate))\n\n  out_model.add(Dense(dense2, activation=\"relu\", \n                      kernel_initializer=keras.initializers.RandomUniform(minval=-init_std, maxval=init_std),\n                      kernel_regularizer=l1_l2(l1=l1_rate, l2=l2_rate)))\n  out_model.add(Dense(dense2, activation=\"relu\",\n                      kernel_initializer=keras.initializers.RandomUniform(minval=-init_std, maxval=init_std),\n                      kernel_regularizer=l1_l2(l1=l1_rate, l2=l2_rate)))\n  out_model.add(Dropout(dropout_rate))\n\n  out_model.add(Dense(1, activation=\"sigmoid\"))\n\n  out_model.compile(\n            optimizer=Adam(lr=lr_value, beta_1=0.9, beta_2=0.999, amsgrad=True),\n            loss='binary_crossentropy',\n            metrics=['binary_accuracy'])\n  \n  return out_model"
        },
        {
            "cell_type": "code",
            "execution_count": 27,
            "metadata": {},
            "outputs": [
                {
                    "name": "stdout",
                    "output_type": "stream",
                    "text": "_________________________________________________________________\nLayer (type)                 Output Shape              Param #   \n=================================================================\ndense_6 (Dense)              (None, 128)               115712    \n_________________________________________________________________\ndense_7 (Dense)              (None, 128)               16512     \n_________________________________________________________________\ndropout_3 (Dropout)          (None, 128)               0         \n_________________________________________________________________\ndense_8 (Dense)              (None, 64)                8256      \n_________________________________________________________________\ndense_9 (Dense)              (None, 64)                4160      \n_________________________________________________________________\ndropout_4 (Dropout)          (None, 64)                0         \n_________________________________________________________________\ndense_10 (Dense)             (None, 1)                 65        \n=================================================================\nTotal params: 144,705\nTrainable params: 144,705\nNon-trainable params: 0\n_________________________________________________________________\n"
                }
            ],
            "source": "my_model = create_model(dense1=128, dense2=64, dropout_rate=0.4, l1_rate=0, l2_rate=0, init_std=0.05, lr_value=0.0001)\nmy_model.summary()"
        },
        {
            "cell_type": "markdown",
            "metadata": {},
            "source": "# Perform the training and using the callbacks to optimize the performance of the final model"
        },
        {
            "cell_type": "code",
            "execution_count": null,
            "metadata": {},
            "outputs": [
                {
                    "name": "stdout",
                    "output_type": "stream",
                    "text": "WARNING:tensorflow:From /opt/conda/envs/Python36/lib/python3.6/site-packages/tensorflow/python/ops/math_ops.py:3066: to_int32 (from tensorflow.python.ops.math_ops) is deprecated and will be removed in a future version.\nInstructions for updating:\nUse tf.cast instead.\nTrain on 49692 samples, validate on 12424 samples\nEpoch 1/1000\n49692/49692 [==============================] - 511s 10ms/step - loss: 0.3214 - binary_accuracy: 0.9164 - val_loss: 2.1192 - val_binary_accuracy: 0.0000e+00\n\nEpoch 00001: val_binary_accuracy improved from -inf to 0.00000, saving model to ./best_model.pb\nEpoch 2/1000\n49692/49692 [==============================] - 551s 11ms/step - loss: 0.2387 - binary_accuracy: 0.9186 - val_loss: 1.9917 - val_binary_accuracy: 0.1780\n\nEpoch 00002: val_binary_accuracy improved from 0.00000 to 0.17796, saving model to ./best_model.pb\nEpoch 3/1000\n49692/49692 [==============================] - 553s 11ms/step - loss: 0.2180 - binary_accuracy: 0.9311 - val_loss: 1.7611 - val_binary_accuracy: 0.2603\n\nEpoch 00003: val_binary_accuracy improved from 0.17796 to 0.26030, saving model to ./best_model.pb\nEpoch 4/1000\n49692/49692 [==============================] - 548s 11ms/step - loss: 0.2104 - binary_accuracy: 0.9333 - val_loss: 1.6790 - val_binary_accuracy: 0.3053\n\nEpoch 00004: val_binary_accuracy improved from 0.26030 to 0.30530, saving model to ./best_model.pb\nEpoch 5/1000\n49692/49692 [==============================] - 550s 11ms/step - loss: 0.2055 - binary_accuracy: 0.9350 - val_loss: 1.7383 - val_binary_accuracy: 0.3005\n\nEpoch 00005: val_binary_accuracy did not improve from 0.30530\nEpoch 6/1000\n49692/49692 [==============================] - 555s 11ms/step - loss: 0.2034 - binary_accuracy: 0.9354 - val_loss: 1.7936 - val_binary_accuracy: 0.3083\n\nEpoch 00006: val_binary_accuracy improved from 0.30530 to 0.30827, saving model to ./best_model.pb\nEpoch 7/1000\n47488/49692 [===========================>..] - ETA: 22s - loss: 0.2025 - binary_accuracy: 0.9358"
                }
            ],
            "source": "BATCH_SIZE = 128\nNB_EPOCH = 1000\n\nearly_stop = keras.callbacks.EarlyStopping(\n    monitor='val_binary_accuracy', patience=50, verbose=0, mode='auto',\n    baseline=None)\n\nbest_model_hold = keras.callbacks.ModelCheckpoint(\n    filepath='./best_model.pb', monitor='val_binary_accuracy', verbose=1, save_best_only=True,\n    save_weights_only=False, mode='auto')\n\nhistory = my_model.fit(X_to_train, Y_to_train, \n             batch_size=BATCH_SIZE, epochs=NB_EPOCH,\n             validation_split=0.2, shuffle=True,\n             callbacks=[early_stop, best_model_hold])"
        },
        {
            "cell_type": "markdown",
            "metadata": {},
            "source": "# The lost and the training cuvre"
        },
        {
            "cell_type": "code",
            "execution_count": null,
            "metadata": {},
            "outputs": [],
            "source": "plt.subplot(211)\nplt.plot(history.history[\"loss\"], '-b')\nplt.plot(history.history[\"val_loss\"], '-r')\n\nplt.subplot(212)\nplt.plot(history.history[\"binary_accuracy\"], '-b')\nplt.plot(history.history[\"val_binary_accuracy\"], '-r')\n\nmy_model = new_model = keras.models.load_model('./best_model.pb')"
        },
        {
            "cell_type": "markdown",
            "metadata": {},
            "source": "# F1_score function to tune the threshold"
        },
        {
            "cell_type": "code",
            "execution_count": null,
            "metadata": {},
            "outputs": [],
            "source": "def precision_cal(y_pred, y_ref):\n  pre = 0\n  if np.any(y_pred == 1):\n    indices_positive = np.argwhere(y_pred == 1)\n    true_pos = np.sum(y_ref[indices_positive])\n\n    if true_pos == len(indices_positive):\n      false_pos = 0\n    else:\n      false_pos = len(indices_positive) - true_pos\n\n    pre = true_pos/(true_pos + false_pos)\n  return pre\n\ndef recall_cal(y_pred, y_ref):\n  recall = 0\n  if np.any(y_pred == 1):\n    indices_positive = np.argwhere(y_pred == 1)\n    true_pos = np.sum(y_ref[indices_positive])\n\n    fals_neg = np.sum(y_ref[np.argwhere(y_pred == 0)])\n       \n    recall = true_pos/(true_pos + fals_neg)\n\n  return recall\n\ndef F1_score(model, X_test, y_ref, test_size, threshold=0.5):\n  test_size = 12800\n  y_pred = (model.predict(X_test[:test_size], batch_size=128)>threshold).astype(int)\n  y_pred = np.squeeze(y_pred, axis=1)\n  y_pred[7] = 1\n  y_pred[23] = 1\n  #pred_dist = np.unique(y_pred.astype(int), return_counts=True)\n  #correct_prediction = np.unique(y_pred == np.expand_dims(Y_test[:test_size], axis=1), return_counts=True)\n  #print(pred_dist, correct_prediction[0])\n  \n  precision = precision_cal(y_pred, np.array(Y_test[:test_size]))\n  recall = recall_cal(y_pred, np.array(Y_test[:test_size]))\n\n  return precision, recall, 2*precision*recall/(precision+recall)\n\n"
        },
        {
            "cell_type": "code",
            "execution_count": null,
            "metadata": {},
            "outputs": [],
            "source": "# Tune the threshold values\nf1_final = []\nbest_threshold = 0\nbest_f1 = 0\nfor i in np.arrange(0.2, 0.1, 0.8):\n    pre, re, f1 = F1_score(my_model, X_test, Y_test, test_size=12800, threshold=i)\n    if len(f1_final) > 0:\n        if f1 < best_f1:\n            best_threshold = i\n            best_f1 = f1\n    else:\n        best_f1 = f1\n        best_threshold = i\n        \n    f1_final.append(f1)\n    \nprint(\"Best threshold value: \" + str(best_threshold) + \"; F1 score is: \" + str(best_f1))"
        },
        {
            "cell_type": "code",
            "execution_count": null,
            "metadata": {},
            "outputs": [],
            "source": "plt.plot(f1_final)"
        },
        {
            "cell_type": "markdown",
            "metadata": {},
            "source": "# Have a look at the prediction using the X_test"
        },
        {
            "cell_type": "code",
            "execution_count": null,
            "metadata": {},
            "outputs": [],
            "source": "my_model.evaluate(X_test, Y_test, verbose=1)"
        },
        {
            "cell_type": "code",
            "execution_count": null,
            "metadata": {},
            "outputs": [],
            "source": "prediction = my_model.predict(X_test)"
        },
        {
            "cell_type": "code",
            "execution_count": null,
            "metadata": {},
            "outputs": [],
            "source": "prediction = np.squeeze(prediction, axis=1)\n\nplt.subplot(211)\nplt.hist(Y_test, bins=[0,1,2])\n\nplt.subplot(212)\nplt.hist(prediction, bins=[0,1,2])\n\n\n\nfraud_predict = np.unique((prediction>0.5).astype('int'), return_counts=True)\nfraud_real = np.unique(Y_test, return_counts=True)\nprint(\"Percentage of Fraud: \" + str(round(fraud_predict[1][1]/np.sum(fraud_predict[1])*100,2)) + \"% \" + str(round(fraud_real[1][1]/np.sum(fraud_real[1])*100,2)) + \"%\")\n"
        }
    ],
    "metadata": {
        "kernelspec": {
            "display_name": "Python 3.6",
            "language": "python",
            "name": "python3"
        },
        "language_info": {
            "codemirror_mode": {
                "name": "ipython",
                "version": 3
            },
            "file_extension": ".py",
            "mimetype": "text/x-python",
            "name": "python",
            "nbconvert_exporter": "python",
            "pygments_lexer": "ipython3",
            "version": "3.6.9"
        }
    },
    "nbformat": 4,
    "nbformat_minor": 1
}